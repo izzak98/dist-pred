{
 "cells": [
  {
   "cell_type": "code",
   "execution_count": 1,
   "metadata": {},
   "outputs": [],
   "source": [
    "import os\n",
    "from tqdm.auto import tqdm\n",
    "import warnings\n",
    "import pandas as pd\n",
    "import numpy as np\n",
    "import matplotlib.pyplot as plt\n",
    "\n",
    "import torch\n",
    "from torch.utils.data import DataLoader\n",
    "\n",
    "from utils.data_utils import get_dataset, DynamicBatchSampler, collate_fn, get_static_dataset, get_test_dataset, get_grouping, get_test_synthetic_dataset\n",
    "from utils.optuna_utils import load_best_model\n",
    "from utils.train_utils import TwoStageQuantileLoss, ComparisonQuantileLoss\n",
    "from LSTM import train\n",
    "\n",
    "quantiles = [\n",
    "        0.00005, 0.00025, 0.00075, 0.00125, 0.00175, 0.0025, 0.005, 0.01, 0.015, 0.02, 0.03,\n",
    "        0.05, 0.1, 0.15, 0.2, 0.25, 0.3, 0.35, 0.4, 0.45, 0.5, 0.55, 0.6, 0.65, 0.7,\n",
    "        0.75, 0.8, 0.85, 0.9, 0.95, 0.98, 0.99, 0.995, 0.9975, 0.99925, 0.99975, 0.99995\n",
    "    ]\n",
    "loss_fn = TwoStageQuantileLoss(quantiles)\n",
    "test_loss_fn = ComparisonQuantileLoss(quantiles)\n",
    "results = {}\n",
    "\n",
    "\n",
    "DEVICE = torch.device(\"cuda\" if torch.cuda.is_available() else \"cpu\")"
   ]
  },
  {
   "cell_type": "code",
   "execution_count": 2,
   "metadata": {},
   "outputs": [
    {
     "name": "stdout",
     "output_type": "stream",
     "text": [
      "LSTM_Model(\n",
      "  (normalize_lstm): LSTM(49, 64, num_layers=2, batch_first=True, dropout=0.23715026182885748)\n",
      "  (normalize_module): Sequential(\n",
      "    (0): Linear(in_features=64, out_features=128, bias=True)\n",
      "    (1): LayerNorm((128,), eps=1e-05, elementwise_affine=True)\n",
      "    (2): Dropout(p=0.23715026182885748, inplace=False)\n",
      "    (3): Linear(in_features=128, out_features=256, bias=True)\n",
      "    (4): LayerNorm((256,), eps=1e-05, elementwise_affine=True)\n",
      "    (5): Dropout(p=0.23715026182885748, inplace=False)\n",
      "    (6): Linear(in_features=256, out_features=37, bias=True)\n",
      "  )\n",
      "  (market_lstm): LSTM(21, 128, num_layers=3, batch_first=True, dropout=0.23715026182885748)\n",
      "  (market_module): Sequential(\n",
      "    (0): Linear(in_features=128, out_features=256, bias=True)\n",
      "    (1): LayerNorm((256,), eps=1e-05, elementwise_affine=True)\n",
      "    (2): Tanh()\n",
      "    (3): Dropout(p=0.23715026182885748, inplace=False)\n",
      "    (4): Linear(in_features=256, out_features=1, bias=True)\n",
      "  )\n",
      ")\n",
      "Model has 489638 parameters\n"
     ]
    }
   ],
   "source": [
    "lstm_model, lstm_params = load_best_model('lstm')\n",
    "\n",
    "lstm_model.to(DEVICE)\n",
    "\n",
    "lstm_normalazation_window = lstm_params['normalazation_window']\n",
    "lstm_batch_size = lstm_params['batch_size']\n",
    "l1_reg = lstm_params['l1_reg']\n",
    "l2_reg = lstm_params['l2_reg']\n",
    "\n",
    "lstm_optimizer = torch.optim.Adam(lstm_model.parameters(), lr=lstm_params['learning_rate'], weight_decay=l2_reg)\n",
    "\n",
    "print(lstm_model)\n",
    "print(f\"Model has {sum(p.numel() for p in lstm_model.parameters() if p.requires_grad)} parameters\")"
   ]
  },
  {
   "cell_type": "code",
   "execution_count": 3,
   "metadata": {},
   "outputs": [
    {
     "name": "stdout",
     "output_type": "stream",
     "text": [
      "Model loaded from lstm_model.pth\n"
     ]
    },
    {
     "name": "stderr",
     "output_type": "stream",
     "text": [
      "/tmp/ipykernel_8252/2344815876.py:2: FutureWarning: You are using `torch.load` with `weights_only=False` (the current default value), which uses the default pickle module implicitly. It is possible to construct malicious pickle data which will execute arbitrary code during unpickling (See https://github.com/pytorch/pytorch/blob/main/SECURITY.md#untrusted-models for more details). In a future release, the default value for `weights_only` will be flipped to `True`. This limits the functions that could be executed during unpickling. Arbitrary objects will no longer be allowed to be loaded via this mode unless they are explicitly allowlisted by the user via `torch.serialization.add_safe_globals`. We recommend you start setting `weights_only=True` for any use case where you don't have full control of the loaded file. Please open an issue on GitHub for any issues related to this experimental feature.\n",
      "  lstm_model.load_state_dict(torch.load('lstm_model.pth'))\n"
     ]
    }
   ],
   "source": [
    "if os.path.exists('lstm_model.pth'):\n",
    "    lstm_model.load_state_dict(torch.load('lstm_model.pth'))\n",
    "    lstm_model.to(DEVICE)\n",
    "    print(\"Model loaded from lstm_model.pth\")\n",
    "else:\n",
    "    lstm_train_dataset = get_dataset(\n",
    "    lstm_normalazation_window, \"1998-01-01\", \"2018-01-01\")\n",
    "    lstm_val_dataset = get_dataset(lstm_normalazation_window, \"2018-01-01\", \"2019-01-01\")\n",
    "    lstm_train_batch_sampler = DynamicBatchSampler(\n",
    "        lstm_train_dataset, batch_size=lstm_batch_size)\n",
    "    lstm_val_batch_sampler = DynamicBatchSampler(lstm_val_dataset, batch_size=lstm_batch_size)\n",
    "\n",
    "\n",
    "    lstm_train_loader = DataLoader(\n",
    "        lstm_train_dataset, batch_sampler=lstm_train_batch_sampler, collate_fn=collate_fn)\n",
    "    lstm_val_loader = DataLoader(\n",
    "        lstm_val_dataset, batch_sampler=lstm_val_batch_sampler, collate_fn=collate_fn)\n",
    "    _, lstm_model = train(\n",
    "        model=lstm_model,\n",
    "        train_loader=lstm_train_loader,\n",
    "        val_loader=lstm_val_loader,\n",
    "        criterion=loss_fn,\n",
    "        optimizer=lstm_optimizer,\n",
    "        num_epochs=100,\n",
    "        patience=10,\n",
    "        l1_reg=l1_reg,\n",
    "        verbose=True\n",
    "    )\n",
    "    torch.save(lstm_model.state_dict(), 'lstm_model.pth')\n"
   ]
  },
  {
   "cell_type": "code",
   "execution_count": 4,
   "metadata": {},
   "outputs": [
    {
     "name": "stdout",
     "output_type": "stream",
     "text": [
      "QuantileDense(\n",
      "  (raw_layers): ModuleList(\n",
      "    (0): Linear(in_features=49, out_features=256, bias=True)\n",
      "    (1): Dropout(p=0.029313152060112584, inplace=False)\n",
      "    (2): ReLU()\n",
      "    (3): Linear(in_features=256, out_features=128, bias=True)\n",
      "    (4): Dropout(p=0.029313152060112584, inplace=False)\n",
      "    (5): ReLU()\n",
      "    (6): Linear(in_features=128, out_features=32, bias=True)\n",
      "    (7): Dropout(p=0.029313152060112584, inplace=False)\n",
      "    (8): ReLU()\n",
      "    (9): Linear(in_features=32, out_features=64, bias=True)\n",
      "    (10): Dropout(p=0.029313152060112584, inplace=False)\n",
      "    (11): ReLU()\n",
      "    (12): Linear(in_features=64, out_features=512, bias=True)\n",
      "    (13): Dropout(p=0.029313152060112584, inplace=False)\n",
      "    (14): ReLU()\n",
      "    (15): Linear(in_features=512, out_features=37, bias=True)\n",
      "  )\n",
      "  (raw_model): Sequential(\n",
      "    (0): Linear(in_features=49, out_features=256, bias=True)\n",
      "    (1): Dropout(p=0.029313152060112584, inplace=False)\n",
      "    (2): ReLU()\n",
      "    (3): Linear(in_features=256, out_features=128, bias=True)\n",
      "    (4): Dropout(p=0.029313152060112584, inplace=False)\n",
      "    (5): ReLU()\n",
      "    (6): Linear(in_features=128, out_features=32, bias=True)\n",
      "    (7): Dropout(p=0.029313152060112584, inplace=False)\n",
      "    (8): ReLU()\n",
      "    (9): Linear(in_features=32, out_features=64, bias=True)\n",
      "    (10): Dropout(p=0.029313152060112584, inplace=False)\n",
      "    (11): ReLU()\n",
      "    (12): Linear(in_features=64, out_features=512, bias=True)\n",
      "    (13): Dropout(p=0.029313152060112584, inplace=False)\n",
      "    (14): ReLU()\n",
      "    (15): Linear(in_features=512, out_features=37, bias=True)\n",
      "  )\n",
      "  (market_layers): ModuleList(\n",
      "    (0): Linear(in_features=21, out_features=512, bias=True)\n",
      "    (1): Dropout(p=0.029313152060112584, inplace=False)\n",
      "    (2): Tanh()\n",
      "    (3): Linear(in_features=512, out_features=64, bias=True)\n",
      "    (4): Dropout(p=0.029313152060112584, inplace=False)\n",
      "    (5): Tanh()\n",
      "    (6): Linear(in_features=64, out_features=128, bias=True)\n",
      "    (7): Dropout(p=0.029313152060112584, inplace=False)\n",
      "    (8): Tanh()\n",
      "    (9): Linear(in_features=128, out_features=1, bias=True)\n",
      "  )\n",
      "  (market_model): Sequential(\n",
      "    (0): Linear(in_features=21, out_features=512, bias=True)\n",
      "    (1): Dropout(p=0.029313152060112584, inplace=False)\n",
      "    (2): Tanh()\n",
      "    (3): Linear(in_features=512, out_features=64, bias=True)\n",
      "    (4): Dropout(p=0.029313152060112584, inplace=False)\n",
      "    (5): Tanh()\n",
      "    (6): Linear(in_features=64, out_features=128, bias=True)\n",
      "    (7): Dropout(p=0.029313152060112584, inplace=False)\n",
      "    (8): Tanh()\n",
      "    (9): Linear(in_features=128, out_features=1, bias=True)\n",
      "  )\n",
      ")\n"
     ]
    }
   ],
   "source": [
    "dense_model, dense_params = load_best_model('dense')\n",
    "\n",
    "dense_model.to(DEVICE)\n",
    "\n",
    "dense_normalazation_window = dense_params['normalazation_window']\n",
    "dense_batch_size = dense_params['batch_size']\n",
    "l1_reg = dense_params['l1_reg']\n",
    "l2_reg = dense_params['l2_reg']\n",
    "\n",
    "dense_optimizer = torch.optim.Adam(dense_model.parameters(), lr=dense_params['learning_rate'], weight_decay=l2_reg)\n",
    "\n",
    "print(dense_model)"
   ]
  },
  {
   "cell_type": "code",
   "execution_count": 5,
   "metadata": {},
   "outputs": [
    {
     "name": "stdout",
     "output_type": "stream",
     "text": [
      "Model loaded from dense_model.pth\n"
     ]
    },
    {
     "name": "stderr",
     "output_type": "stream",
     "text": [
      "/tmp/ipykernel_8252/2142353267.py:2: FutureWarning: You are using `torch.load` with `weights_only=False` (the current default value), which uses the default pickle module implicitly. It is possible to construct malicious pickle data which will execute arbitrary code during unpickling (See https://github.com/pytorch/pytorch/blob/main/SECURITY.md#untrusted-models for more details). In a future release, the default value for `weights_only` will be flipped to `True`. This limits the functions that could be executed during unpickling. Arbitrary objects will no longer be allowed to be loaded via this mode unless they are explicitly allowlisted by the user via `torch.serialization.add_safe_globals`. We recommend you start setting `weights_only=True` for any use case where you don't have full control of the loaded file. Please open an issue on GitHub for any issues related to this experimental feature.\n",
      "  dense_model.load_state_dict(torch.load('dense_model.pth'))\n"
     ]
    }
   ],
   "source": [
    "if os.path.exists('dense_model.pth'):\n",
    "    dense_model.load_state_dict(torch.load('dense_model.pth'))\n",
    "    dense_model.to(DEVICE)\n",
    "    print(\"Model loaded from dense_model.pth\")\n",
    "else:\n",
    "    dense_train_dataset = get_static_dataset(dense_normalazation_window, \"1998-01-01\", \"2018-01-01\")\n",
    "    dense_val_dataset = get_static_dataset(dense_normalazation_window, \"2018-01-01\", \"2019-01-01\")\n",
    "\n",
    "    dense_train_loader = DataLoader(dense_train_dataset, batch_size=dense_batch_size, shuffle=True)\n",
    "    dense_val_loader = DataLoader(dense_val_dataset, batch_size=dense_batch_size, shuffle=False)\n",
    "    _, dense_model = train(\n",
    "        model=dense_model,\n",
    "        train_loader=dense_train_loader,\n",
    "        val_loader=dense_val_loader,\n",
    "        criterion=loss_fn,\n",
    "        optimizer=dense_optimizer,\n",
    "        num_epochs=100,\n",
    "        patience=10,\n",
    "        l1_reg=l1_reg,\n",
    "        verbose=True\n",
    "    )\n",
    "    torch.save(dense_model.state_dict(), 'dense_model.pth')"
   ]
  },
  {
   "cell_type": "code",
   "execution_count": 6,
   "metadata": {},
   "outputs": [],
   "source": [
    "dense_test_dataset = get_test_dataset(dense_normalazation_window, \"2019-01-01\", \"2024-01-01\")\n",
    "lstm_test_dataset = get_test_dataset(lstm_normalazation_window, \"2019-01-01\", \"2024-01-01\")"
   ]
  },
  {
   "cell_type": "code",
   "execution_count": 7,
   "metadata": {},
   "outputs": [],
   "source": [
    "def infrence(model, dataloader, is_dense=True):\n",
    "    losses = []\n",
    "    targets = []\n",
    "    model.eval()\n",
    "    for x, s, z, y, _ in dataloader:\n",
    "        x, s, z, y = x.to(DEVICE), s.to(DEVICE), z.to(DEVICE), y.to(DEVICE)\n",
    "        if is_dense:\n",
    "            x = x[:, 0, :]\n",
    "            z = z[:, 0, :]\n",
    "            s = s[:, 0]\n",
    "        else:\n",
    "            s = s.mean(dim=1)\n",
    "        with torch.no_grad():\n",
    "            _, y_pred = model(x, s, z)\n",
    "            loss = test_loss_fn(y_pred, y[:, -1])\n",
    "            losses.extend(loss.cpu().numpy())\n",
    "            targets.extend(y[:, -1].cpu().numpy())\n",
    "    losses = torch.tensor(losses)\n",
    "    targets = torch.tensor(targets)\n",
    "\n",
    "    return losses"
   ]
  },
  {
   "cell_type": "code",
   "execution_count": 8,
   "metadata": {},
   "outputs": [],
   "source": [
    "assets = dense_test_dataset.assets\n",
    "datas = dense_test_dataset.datas"
   ]
  },
  {
   "cell_type": "code",
   "execution_count": 9,
   "metadata": {},
   "outputs": [
    {
     "data": {
      "application/vnd.jupyter.widget-view+json": {
       "model_id": "3fc47cf0e1a54128aa2ef3cc902d4e11",
       "version_major": 2,
       "version_minor": 0
      },
      "text/plain": [
       "Inferencing models:   0%|          | 0/60 [00:00<?, ?it/s]"
      ]
     },
     "metadata": {},
     "output_type": "display_data"
    }
   ],
   "source": [
    "warnings.filterwarnings(\"ignore\")\n",
    "batch_size = 1024\n",
    "for asset in tqdm(assets, desc='Inferencing models'):\n",
    "    grouping = get_grouping(datas, asset)\n",
    "    if grouping not in results:\n",
    "        results[grouping] = {\n",
    "            'dense': 0,\n",
    "            'lstm': 0\n",
    "        }\n",
    "    dense_test_dataset.set_main_asset(asset)\n",
    "    lstm_test_dataset.set_main_asset(asset)\n",
    "    \n",
    "    dense_data_loader = DataLoader(dense_test_dataset, batch_size=1024, shuffle=False)\n",
    "    lstm_data_loader = DataLoader(lstm_test_dataset, batch_size=1024, shuffle=False)\n",
    "    dense_losses = infrence(dense_model, dense_data_loader, is_dense=True)\n",
    "    lstm_losses = infrence(lstm_model, lstm_data_loader, is_dense=False)\n",
    "    results[grouping]['dense'] += dense_losses.mean().item()\n",
    "    results[grouping]['lstm'] += lstm_losses.mean().item()"
   ]
  },
  {
   "cell_type": "code",
   "execution_count": 10,
   "metadata": {},
   "outputs": [
    {
     "name": "stdout",
     "output_type": "stream",
     "text": [
      "                   dense    lstm  Difference (Dense - LSTM)\n",
      "commodities       0.5132  0.4921                     0.0211\n",
      "cryptocurrencies  1.2342  1.2422                    -0.0079\n",
      "s&p 500           0.4830  0.4648                     0.0182\n",
      "nikkei 225        0.5050  0.4828                     0.0222\n",
      "euro stoxx 50     0.5238  0.4912                     0.0325\n",
      "currency pairs    0.1645  0.1648                    -0.0003\n",
      "Total Mean        0.5706  0.5563                     0.0143\n"
     ]
    }
   ],
   "source": [
    "results = {k: {model: value / 10 for model, value in v.items()} for k, v in results.items()}\n",
    "\n",
    "# Create DataFrame\n",
    "df = pd.DataFrame(results).T\n",
    "\n",
    "# Calculate total mean\n",
    "dense_total_mean = df['dense'].mean()\n",
    "lstm_total_mean = df['lstm'].mean()\n",
    "new_row = pd.DataFrame({'dense': dense_total_mean, 'lstm': lstm_total_mean}, index=['Total Mean'])\n",
    "df = pd.concat([df, new_row])\n",
    "\n",
    "# Calculate difference\n",
    "df['Difference (Dense - LSTM)'] = df['dense'] - df['lstm']\n",
    "\n",
    "# Format the table\n",
    "formatted_df = df.apply(lambda x: round(x, 4))\n",
    "\n",
    "print(formatted_df.to_string())"
   ]
  },
  {
   "cell_type": "code",
   "execution_count": 3,
   "metadata": {},
   "outputs": [],
   "source": []
  },
  {
   "cell_type": "code",
   "execution_count": 11,
   "metadata": {},
   "outputs": [
    {
     "name": "stdout",
     "output_type": "stream",
     "text": [
      "Generated mu: -0.000713, sigma: 0.028807\n",
      "Generated mu: 0.000810, sigma: 0.026998\n",
      "Generated mu: -0.000253, sigma: 0.024460\n",
      "Generated mu: 0.000480, sigma: 0.016912\n",
      "Generated mu: 0.000051, sigma: 0.014252\n",
      "Generated mu: 0.000549, sigma: 0.019009\n",
      "Generated mu: 0.000780, sigma: 0.013379\n",
      "Generated mu: -0.000875, sigma: 0.015398\n",
      "Generated mu: -0.000199, sigma: 0.027863\n",
      "Generated mu: 0.000650, sigma: 0.014030\n",
      "Asset 1 correlation with market data: 0.4847\n",
      "Asset 2 correlation with market data: 0.4961\n",
      "Asset 3 correlation with market data: 0.5298\n",
      "Asset 4 correlation with market data: 0.5108\n",
      "Asset 5 correlation with market data: 0.4949\n",
      "Asset 6 correlation with market data: 0.5159\n",
      "Asset 7 correlation with market data: 0.5056\n",
      "Asset 8 correlation with market data: 0.4989\n",
      "Asset 9 correlation with market data: 0.4992\n",
      "Asset 10 correlation with market data: 0.4996\n"
     ]
    }
   ],
   "source": [
    "dense_synthetic_test_dataset, lstm_synthetic_test_dataset = get_test_synthetic_dataset(dense_normalazation_window, lstm_normalazation_window, 1000, 0.7)"
   ]
  },
  {
   "cell_type": "code",
   "execution_count": 12,
   "metadata": {},
   "outputs": [],
   "source": [
    "dense_total_loss = 0\n",
    "lstm_total_loss = 0\n",
    "for i in range(0, 10):\n",
    "    dense_synthetic_test_dataset.set_main_asset(f\"synthetic_{i}\")\n",
    "    lstm_synthetic_test_dataset.set_main_asset(f\"synthetic_{i}\")\n",
    "    dense_data_loader = DataLoader(dense_synthetic_test_dataset, batch_size=1024, shuffle=False)\n",
    "    lstm_data_loader = DataLoader(lstm_synthetic_test_dataset, batch_size=1024, shuffle=False)\n",
    "    dense_losses = infrence(dense_model, dense_data_loader, is_dense=True)\n",
    "    lstm_losses = infrence(lstm_model, lstm_data_loader, is_dense=False)\n",
    "    dense_total_loss += dense_losses.mean().item()\n",
    "    lstm_total_loss += lstm_losses.mean().item()\n",
    "\n",
    "dense_total_loss /= 10\n",
    "lstm_total_loss /= 10\n",
    "\n",
    "results[\"synthetic\"] = {\n",
    "    'dense': dense_total_loss,\n",
    "    'lstm': lstm_total_loss\n",
    "}"
   ]
  },
  {
   "cell_type": "code",
   "execution_count": 13,
   "metadata": {},
   "outputs": [
    {
     "name": "stdout",
     "output_type": "stream",
     "text": [
      "                   dense    lstm  Difference (Dense - LSTM)\n",
      "commodities       0.5132  0.4921                     0.0211\n",
      "cryptocurrencies  1.2342  1.2422                    -0.0079\n",
      "s&p 500           0.4830  0.4648                     0.0182\n",
      "nikkei 225        0.5050  0.4828                     0.0222\n",
      "euro stoxx 50     0.5238  0.4912                     0.0325\n",
      "currency pairs    0.1645  0.1648                    -0.0003\n",
      "synthetic         0.8159  0.5304                     0.2855\n",
      "Total Mean        0.6057  0.5526                     0.0530\n"
     ]
    }
   ],
   "source": [
    "# Create DataFrame\n",
    "df = pd.DataFrame(results).T\n",
    "\n",
    "# Calculate total mean\n",
    "dense_total_mean = df['dense'].mean()\n",
    "lstm_total_mean = df['lstm'].mean()\n",
    "new_row = pd.DataFrame({'dense': dense_total_mean, 'lstm': lstm_total_mean}, index=['Total Mean'])\n",
    "df = pd.concat([df, new_row])\n",
    "\n",
    "# Calculate difference\n",
    "df['Difference (Dense - LSTM)'] = df['dense'] - df['lstm']\n",
    "\n",
    "# Format the table\n",
    "formatted_df = df.apply(lambda x: round(x, 4))\n",
    "\n",
    "print(formatted_df.to_string())"
   ]
  },
  {
   "cell_type": "code",
   "execution_count": 25,
   "metadata": {},
   "outputs": [],
   "source": [
    "def corr_infrence(model, dataloader):\n",
    "    model.eval()\n",
    "    total_loss = 0\n",
    "    total_corr = 0\n",
    "    for x, s, z, y, sy in tqdm(dataloader, desc='Inferencing model', leave=False):\n",
    "        x, s, z, y, sy = x.to(DEVICE), s.to(DEVICE), z.to(DEVICE), y.to(DEVICE), sy.to(DEVICE)\n",
    "        total_corr += len(x)\n",
    "        with torch.no_grad():\n",
    "            _, raw_pred = model(x, s, z)\n",
    "            loss = test_loss_fn(raw_pred, y[:, -1])\n",
    "            total_loss += loss.sum().item()\n",
    "        \n",
    "    return total_loss/total_corr\n",
    "        "
   ]
  },
  {
   "cell_type": "code",
   "execution_count": 30,
   "metadata": {},
   "outputs": [
    {
     "data": {
      "application/vnd.jupyter.widget-view+json": {
       "model_id": "21b01b46c5824189b2872c800b92c5c4",
       "version_major": 2,
       "version_minor": 0
      },
      "text/plain": [
       "Calculating LSTM correlation:   0%|          | 0/28 [00:00<?, ?it/s]"
      ]
     },
     "metadata": {},
     "output_type": "display_data"
    },
    {
     "data": {
      "application/vnd.jupyter.widget-view+json": {
       "model_id": "ce98e062c5114e4eb1c1a51a2e8c4cc4",
       "version_major": 2,
       "version_minor": 0
      },
      "text/plain": [
       "Inferencing model:   0%|          | 0/24 [00:00<?, ?it/s]"
      ]
     },
     "metadata": {},
     "output_type": "display_data"
    },
    {
     "data": {
      "application/vnd.jupyter.widget-view+json": {
       "model_id": "ebed3dfc49c9448990cdbd604c9db05f",
       "version_major": 2,
       "version_minor": 0
      },
      "text/plain": [
       "Inferencing model:   0%|          | 0/19 [00:00<?, ?it/s]"
      ]
     },
     "metadata": {},
     "output_type": "display_data"
    },
    {
     "data": {
      "application/vnd.jupyter.widget-view+json": {
       "model_id": "e641fb8fa49d43e6bfbe2445a3bf5953",
       "version_major": 2,
       "version_minor": 0
      },
      "text/plain": [
       "Inferencing model:   0%|          | 0/17 [00:00<?, ?it/s]"
      ]
     },
     "metadata": {},
     "output_type": "display_data"
    },
    {
     "data": {
      "application/vnd.jupyter.widget-view+json": {
       "model_id": "ec8594679c0c493b916de834e0eb6588",
       "version_major": 2,
       "version_minor": 0
      },
      "text/plain": [
       "Inferencing model:   0%|          | 0/16 [00:00<?, ?it/s]"
      ]
     },
     "metadata": {},
     "output_type": "display_data"
    },
    {
     "data": {
      "application/vnd.jupyter.widget-view+json": {
       "model_id": "f78d924c56b343689c9383f076ca4348",
       "version_major": 2,
       "version_minor": 0
      },
      "text/plain": [
       "Inferencing model:   0%|          | 0/15 [00:00<?, ?it/s]"
      ]
     },
     "metadata": {},
     "output_type": "display_data"
    },
    {
     "data": {
      "application/vnd.jupyter.widget-view+json": {
       "model_id": "1eb886828917433fb756964076531c6c",
       "version_major": 2,
       "version_minor": 0
      },
      "text/plain": [
       "Inferencing model:   0%|          | 0/15 [00:00<?, ?it/s]"
      ]
     },
     "metadata": {},
     "output_type": "display_data"
    },
    {
     "data": {
      "application/vnd.jupyter.widget-view+json": {
       "model_id": "1dbdb6abdbc4440fbf24efd70d718868",
       "version_major": 2,
       "version_minor": 0
      },
      "text/plain": [
       "Inferencing model:   0%|          | 0/15 [00:00<?, ?it/s]"
      ]
     },
     "metadata": {},
     "output_type": "display_data"
    },
    {
     "data": {
      "application/vnd.jupyter.widget-view+json": {
       "model_id": "b1d9e4881ec24a1cb3f546e2a2fe95e4",
       "version_major": 2,
       "version_minor": 0
      },
      "text/plain": [
       "Inferencing model:   0%|          | 0/14 [00:00<?, ?it/s]"
      ]
     },
     "metadata": {},
     "output_type": "display_data"
    },
    {
     "data": {
      "application/vnd.jupyter.widget-view+json": {
       "model_id": "a0d382f11ece43568687376b42954eb0",
       "version_major": 2,
       "version_minor": 0
      },
      "text/plain": [
       "Inferencing model:   0%|          | 0/14 [00:00<?, ?it/s]"
      ]
     },
     "metadata": {},
     "output_type": "display_data"
    },
    {
     "data": {
      "application/vnd.jupyter.widget-view+json": {
       "model_id": "f3e803289df94fc3bad0d58859dedfc0",
       "version_major": 2,
       "version_minor": 0
      },
      "text/plain": [
       "Inferencing model:   0%|          | 0/14 [00:00<?, ?it/s]"
      ]
     },
     "metadata": {},
     "output_type": "display_data"
    },
    {
     "data": {
      "application/vnd.jupyter.widget-view+json": {
       "model_id": "e271b9ecc8e349148064b0e3ce63b709",
       "version_major": 2,
       "version_minor": 0
      },
      "text/plain": [
       "Inferencing model:   0%|          | 0/14 [00:00<?, ?it/s]"
      ]
     },
     "metadata": {},
     "output_type": "display_data"
    },
    {
     "data": {
      "application/vnd.jupyter.widget-view+json": {
       "model_id": "a3f352e5413748d3a11c816407ba7bed",
       "version_major": 2,
       "version_minor": 0
      },
      "text/plain": [
       "Inferencing model:   0%|          | 0/11 [00:00<?, ?it/s]"
      ]
     },
     "metadata": {},
     "output_type": "display_data"
    },
    {
     "data": {
      "application/vnd.jupyter.widget-view+json": {
       "model_id": "5ee30cc0f8b84846baefac8584355015",
       "version_major": 2,
       "version_minor": 0
      },
      "text/plain": [
       "Inferencing model:   0%|          | 0/13 [00:00<?, ?it/s]"
      ]
     },
     "metadata": {},
     "output_type": "display_data"
    },
    {
     "data": {
      "application/vnd.jupyter.widget-view+json": {
       "model_id": "5aca5fd40abc4333b7b5e06202d824b1",
       "version_major": 2,
       "version_minor": 0
      },
      "text/plain": [
       "Inferencing model:   0%|          | 0/13 [00:00<?, ?it/s]"
      ]
     },
     "metadata": {},
     "output_type": "display_data"
    },
    {
     "data": {
      "application/vnd.jupyter.widget-view+json": {
       "model_id": "9ceea38aa2384c0e822bdbea96e21684",
       "version_major": 2,
       "version_minor": 0
      },
      "text/plain": [
       "Inferencing model:   0%|          | 0/11 [00:00<?, ?it/s]"
      ]
     },
     "metadata": {},
     "output_type": "display_data"
    },
    {
     "data": {
      "application/vnd.jupyter.widget-view+json": {
       "model_id": "94ce1cf8919b4e88a7e3f7fe31a2bebd",
       "version_major": 2,
       "version_minor": 0
      },
      "text/plain": [
       "Inferencing model:   0%|          | 0/11 [00:00<?, ?it/s]"
      ]
     },
     "metadata": {},
     "output_type": "display_data"
    },
    {
     "data": {
      "application/vnd.jupyter.widget-view+json": {
       "model_id": "95e8edaee5ec4e7ab50af070ec65c3e8",
       "version_major": 2,
       "version_minor": 0
      },
      "text/plain": [
       "Inferencing model:   0%|          | 0/11 [00:00<?, ?it/s]"
      ]
     },
     "metadata": {},
     "output_type": "display_data"
    },
    {
     "data": {
      "application/vnd.jupyter.widget-view+json": {
       "model_id": "c3496ba733544f90949a3626e7cfeea9",
       "version_major": 2,
       "version_minor": 0
      },
      "text/plain": [
       "Inferencing model:   0%|          | 0/11 [00:00<?, ?it/s]"
      ]
     },
     "metadata": {},
     "output_type": "display_data"
    },
    {
     "data": {
      "application/vnd.jupyter.widget-view+json": {
       "model_id": "8b390c7d8cad4b549306821ef1700421",
       "version_major": 2,
       "version_minor": 0
      },
      "text/plain": [
       "Inferencing model:   0%|          | 0/10 [00:00<?, ?it/s]"
      ]
     },
     "metadata": {},
     "output_type": "display_data"
    },
    {
     "data": {
      "application/vnd.jupyter.widget-view+json": {
       "model_id": "7d15bc17ee5f4f4a98b8f6696ae7fd7e",
       "version_major": 2,
       "version_minor": 0
      },
      "text/plain": [
       "Inferencing model:   0%|          | 0/12 [00:00<?, ?it/s]"
      ]
     },
     "metadata": {},
     "output_type": "display_data"
    },
    {
     "data": {
      "application/vnd.jupyter.widget-view+json": {
       "model_id": "94f71c1a49cd4ce3982b9a9bc7aefb64",
       "version_major": 2,
       "version_minor": 0
      },
      "text/plain": [
       "Inferencing model:   0%|          | 0/8 [00:00<?, ?it/s]"
      ]
     },
     "metadata": {},
     "output_type": "display_data"
    },
    {
     "data": {
      "application/vnd.jupyter.widget-view+json": {
       "model_id": "fe5c32b2b8ce4a0eb40b0689695c5927",
       "version_major": 2,
       "version_minor": 0
      },
      "text/plain": [
       "Inferencing model:   0%|          | 0/10 [00:00<?, ?it/s]"
      ]
     },
     "metadata": {},
     "output_type": "display_data"
    },
    {
     "data": {
      "application/vnd.jupyter.widget-view+json": {
       "model_id": "643eae03eac44264b9518329e5239574",
       "version_major": 2,
       "version_minor": 0
      },
      "text/plain": [
       "Inferencing model:   0%|          | 0/10 [00:00<?, ?it/s]"
      ]
     },
     "metadata": {},
     "output_type": "display_data"
    },
    {
     "data": {
      "application/vnd.jupyter.widget-view+json": {
       "model_id": "fe40313303544ddb9d7a022769aeea57",
       "version_major": 2,
       "version_minor": 0
      },
      "text/plain": [
       "Inferencing model:   0%|          | 0/9 [00:00<?, ?it/s]"
      ]
     },
     "metadata": {},
     "output_type": "display_data"
    },
    {
     "data": {
      "application/vnd.jupyter.widget-view+json": {
       "model_id": "8f2c15c991d4433e94aced3a16cd0c31",
       "version_major": 2,
       "version_minor": 0
      },
      "text/plain": [
       "Inferencing model:   0%|          | 0/11 [00:00<?, ?it/s]"
      ]
     },
     "metadata": {},
     "output_type": "display_data"
    },
    {
     "data": {
      "application/vnd.jupyter.widget-view+json": {
       "model_id": "b4d1fb94f7fd4a89b64610b56c260e22",
       "version_major": 2,
       "version_minor": 0
      },
      "text/plain": [
       "Inferencing model:   0%|          | 0/11 [00:00<?, ?it/s]"
      ]
     },
     "metadata": {},
     "output_type": "display_data"
    },
    {
     "data": {
      "application/vnd.jupyter.widget-view+json": {
       "model_id": "737c2b866ae545c5b25c154a43d38269",
       "version_major": 2,
       "version_minor": 0
      },
      "text/plain": [
       "Inferencing model:   0%|          | 0/8 [00:00<?, ?it/s]"
      ]
     },
     "metadata": {},
     "output_type": "display_data"
    },
    {
     "data": {
      "application/vnd.jupyter.widget-view+json": {
       "model_id": "ff9dcdcf93d04b2fa40cf5589d7764aa",
       "version_major": 2,
       "version_minor": 0
      },
      "text/plain": [
       "Inferencing model:   0%|          | 0/10 [00:00<?, ?it/s]"
      ]
     },
     "metadata": {},
     "output_type": "display_data"
    }
   ],
   "source": [
    "lookaheads = []\n",
    "losses = []\n",
    "for i in tqdm(range(3, 31), desc='Calculating LSTM correlation'):\n",
    "    lstm_corr_data = get_dataset(lstm_normalazation_window, \"2019-01-01\", \"2024-01-01\", i)\n",
    "    corr_sampler = DynamicBatchSampler(lstm_corr_data, batch_size=batch_size)\n",
    "    corr_loader = DataLoader(lstm_corr_data, batch_sampler=corr_sampler, collate_fn=collate_fn)\n",
    "    loss = corr_infrence(lstm_model, corr_loader)\n",
    "    lookaheads.append(i)\n",
    "    losses.append(loss)\n",
    "    "
   ]
  },
  {
   "cell_type": "code",
   "execution_count": 31,
   "metadata": {},
   "outputs": [
    {
     "data": {
      "image/png": "[encoded data removed]",
      "text/plain": [
       "<Figure size 1000x600 with 1 Axes>"
      ]
     },
     "metadata": {},
     "output_type": "display_data"
    }
   ],
   "source": [
    "x = np.array(lookaheads)\n",
    "y = np.array(losses)\n",
    "\n",
    "xlabel = \"Lookahead\"\n",
    "ylabel = \"Mean Loss\"\n",
    "\n",
    "title = \"LSTM Correlation\"\n",
    "\n",
    "# Calculate correlation\n",
    "correlation = np.corrcoef(x, y)[0, 1]\n",
    "\n",
    "# Create scatter plot\n",
    "plt.figure(figsize=(10, 6))\n",
    "plt.scatter(x, y, alpha=0.5)\n",
    "plt.title(f\"{title}\\nCorrelation: {correlation:.2f}\")\n",
    "plt.xlabel(xlabel)\n",
    "plt.ylabel(ylabel)\n",
    "\n",
    "# Add correlation line\n",
    "z = np.polyfit(x, y, 1)\n",
    "p = np.poly1d(z)\n",
    "plt.plot(x, p(x), \"r--\", alpha=0.75)\n",
    "\n",
    "plt.grid(True, alpha=0.3)\n",
    "plt.tight_layout()\n",
    "plt.show()"
   ]
  },
  {
   "cell_type": "code",
   "execution_count": null,
   "metadata": {},
   "outputs": [],
   "source": []
  }
 ],
 "metadata": {
  "kernelspec": {
   "display_name": "dist",
   "language": "python",
   "name": "python3"
  },
  "language_info": {
   "codemirror_mode": {
    "name": "ipython",
    "version": 3
   },
   "file_extension": ".py",
   "mimetype": "text/x-python",
   "name": "python",
   "nbconvert_exporter": "python",
   "pygments_lexer": "ipython3",
   "version": "3.11.9"
  }
 },
 "nbformat": 4,
 "nbformat_minor": 2
}
